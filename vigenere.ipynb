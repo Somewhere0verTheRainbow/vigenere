{
 "cells": [
  {
   "cell_type": "code",
   "execution_count": null,
   "metadata": {},
   "outputs": [],
   "source": [
    "def get_user_input(prompt):\n",
    "\treturn input(prompt).upper()\n",
    "\n",
    "\n",
    "def get_keys():\n",
    "\treturn get_user_input(\"Введите ключ: \").split()\n",
    "\n",
    "\n",
    "def crypt(message, keys, sign):\n",
    "\tfor key in keys:\n",
    "\t\tfinal = \"\"\n",
    "\t\tkey *= len(message) // len(key) + 1\n",
    "\t\tfor index, symbol in enumerate(message):\n",
    "\t\t\tif symbol.isalpha():\n",
    "\t\t\t\ttemp = ord(symbol) + sign * ord(key[index])\n",
    "\t\t\t\tfinal += chr(temp % 26 + ord('A'))\n",
    "\t\t\telse:\n",
    "\t\t\t\tfinal += symbol\n",
    "\t\tmessage = final\n",
    "\treturn final\n",
    "\n",
    "\n",
    "def encrypt(message, keys):\n",
    "\treturn crypt(message, keys, 1)\n",
    "\n",
    "\n",
    "def decrypt(message, keys):\n",
    "\treturn crypt(message, keys, -1)\n",
    "\n",
    "\n",
    "def main():\n",
    "\tstart_message = get_user_input(\"Введите сообщение: \")\n",
    "\tlist_keys = get_keys()\n",
    "\n",
    "\tencrypt_message = encrypt(start_message, list_keys)\n",
    "\tdecrypt_message = decrypt(encrypt_message, list_keys)\n",
    "\tprint(\"Зашифрованное сообщение:\", encrypt_message)\n",
    "\tprint(\"Расшифрованное сообщение:\", decrypt_message)\n",
    "\n",
    "\n",
    "if __name__ == \"__main__\":\n",
    "\tmain()"
   ]
  }
 ],
 "metadata": {
  "kernelspec": {
   "display_name": "Python 3.11.4 64-bit",
   "language": "python",
   "name": "python3"
  },
  "language_info": {
   "name": "python",
   "version": "3.11.4"
  },
  "orig_nbformat": 4,
  "vscode": {
   "interpreter": {
    "hash": "fc77ad8b2bc9ba305039ca602291a5783a80cf4931507a3b6bd8d722885508aa"
   }
  }
 },
 "nbformat": 4,
 "nbformat_minor": 2
}
